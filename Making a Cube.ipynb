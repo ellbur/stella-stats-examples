{
 "cells": [
  {
   "cell_type": "code",
   "execution_count": 1,
   "id": "8d9887ec-357c-4ca2-a2bf-f90ea1d5c9f7",
   "metadata": {},
   "outputs": [],
   "source": [
    "import numpy as np\n",
    "import pandas as pd\n",
    "import matplotlib.pyplot as plt\n",
    "import re"
   ]
  },
  {
   "cell_type": "code",
   "execution_count": 2,
   "id": "125434f7-f1b3-4874-be6c-ed34ad76fedd",
   "metadata": {},
   "outputs": [],
   "source": [
    "file = r'../Science-and-Technology-Society-Use-of-NASA-STELLA-Q2-Spectrometer/data.xlsx'\n",
    "df = pd.read_excel(file,index_col=False)"
   ]
  },
  {
   "cell_type": "code",
   "execution_count": 3,
   "id": "97041001-045c-4aa4-baf8-ca48cf1fa694",
   "metadata": {},
   "outputs": [],
   "source": [
    "irradiance_wls = [ ]\n",
    "irradiance_cols = [ ]\n",
    "\n",
    "for col in df.columns:\n",
    "    m = re.match(r'\\s*irradiance_(\\d+)nm_.*_irradiance_uW_per_cm_squared\\s*', col)\n",
    "    if m:\n",
    "        wl = int(m.group(1))\n",
    "        irradiance_wls.append(wl)\n",
    "        irradiance_cols.append(col)"
   ]
  },
  {
   "cell_type": "code",
   "execution_count": 4,
   "id": "4eae4d68-9e79-476e-ae71-a4e77d292141",
   "metadata": {},
   "outputs": [],
   "source": [
    "irradiance_wls = np.array(irradiance_wls)"
   ]
  },
  {
   "cell_type": "code",
   "execution_count": 5,
   "id": "73ddc666-044e-4a1d-a8f1-d71e612eb4dc",
   "metadata": {},
   "outputs": [],
   "source": [
    "# If you're curious, you can check if the wavelengths are roughly linearly spaced.\n",
    "# This doesn't actually matter for any basic linear algebra analysis like PCA.\n",
    "#\n",
    "# plt.figure()\n",
    "# plt.plot(np.arange(len(irradiance_wls)), irradiance_wls, 'o-')\n",
    "# plt.show()"
   ]
  },
  {
   "cell_type": "code",
   "execution_count": 6,
   "id": "0488f88f-61d3-4351-83a7-1f739c655f68",
   "metadata": {},
   "outputs": [],
   "source": [
    "n = len(df)\n",
    "m = len(irradiance_wls)"
   ]
  },
  {
   "cell_type": "code",
   "execution_count": 7,
   "id": "92bf3628-dd8f-4a99-b8d8-e06851216642",
   "metadata": {},
   "outputs": [
    {
     "data": {
      "text/plain": [
       "(60, 18)"
      ]
     },
     "execution_count": 7,
     "metadata": {},
     "output_type": "execute_result"
    }
   ],
   "source": [
    "(n, m)"
   ]
  },
  {
   "cell_type": "code",
   "execution_count": 8,
   "id": "17c0a948-513e-4ee3-87d1-b5ec3fdc5888",
   "metadata": {},
   "outputs": [],
   "source": [
    "cube = np.zeros((n, m))\n",
    "\n",
    "for i in range(n):\n",
    "    for j in range(m):\n",
    "        cube[i, j] = df[irradiance_cols[j]][i]"
   ]
  },
  {
   "cell_type": "code",
   "execution_count": 9,
   "id": "dcf6dc83-6a51-45e7-8009-698fdc709bb9",
   "metadata": {},
   "outputs": [
    {
     "data": {
      "text/plain": [
       "array([[ 0.851,  0.962,  0.928, ...,  3.525,  0.556,  0.   ],\n",
       "       [ 0.851,  0.962,  0.928, ...,  3.525,  0.556,  0.   ],\n",
       "       [ 0.851,  0.962,  1.857, ...,  3.525,  0.556,  0.882],\n",
       "       ...,\n",
       "       [ 2.553,  3.849,  5.571, ..., 12.924,  2.223,  0.882],\n",
       "       [ 2.553,  4.811,  6.499, ..., 12.924,  2.223,  1.765],\n",
       "       [ 2.553,  4.811,  6.499, ..., 14.099,  2.778,  1.765]])"
      ]
     },
     "execution_count": 9,
     "metadata": {},
     "output_type": "execute_result"
    }
   ],
   "source": [
    "cube"
   ]
  },
  {
   "cell_type": "code",
   "execution_count": 10,
   "id": "f742772c-1621-418c-990b-901f2454dada",
   "metadata": {},
   "outputs": [
    {
     "data": {
      "image/png": "[encoded data removed]",
      "text/plain": [
       "<Figure size 640x480 with 1 Axes>"
      ]
     },
     "metadata": {},
     "output_type": "display_data"
    }
   ],
   "source": [
    "plt.figure()\n",
    "plt.imshow(cube)\n",
    "plt.show()"
   ]
  }
 ],
 "metadata": {
  "kernelspec": {
   "display_name": "Python 3 (ipykernel)",
   "language": "python",
   "name": "python3"
  },
  "language_info": {
   "codemirror_mode": {
    "name": "ipython",
    "version": 3
   },
   "file_extension": ".py",
   "mimetype": "text/x-python",
   "name": "python",
   "nbconvert_exporter": "python",
   "pygments_lexer": "ipython3",
   "version": "3.11.6"
  }
 },
 "nbformat": 4,
 "nbformat_minor": 5
}
